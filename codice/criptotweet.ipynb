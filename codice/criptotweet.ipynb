{
 "cells": [
  {
   "cell_type": "code",
   "execution_count": null,
   "id": "5fedf2cf-2191-49a5-b251-0e6bb14c8abd",
   "metadata": {
    "tags": []
   },
   "outputs": [],
   "source": [
    "import os\n",
    "import time\n",
    "import tweepy as tw\n",
    "import pandas as pd\n",
    "import numpy as np\n",
    "import json\n",
    "import pymongo\n",
    "from pymongo import MongoClient\n",
    "\n",
    "\n",
    "bearer_token = \"AAAAAAAAAAAAAAAAAAAAAMlpVwEAAAAAyno6BFgWyrjtYUd19Omp9Jwp6E4%3DEJlrvFLXkuh9RNEb4BIZvU8s8KbP9YZlGnmUn3EE8ZGj0hdJRM\"\n",
    "consumer_key = \"7SfGRroYyciJOmkMV0vud15o2\"\n",
    "consumer_secret = \"yVofBL2bNkxPrRlUk0WFBP6bVzyan54riq5IeVGzCkVnQUjdqq\"\n",
    "access_token = \"984375378-OsX5tC7GjFCnngMuWRFGxiTlbtDbjHz2eyI3reSB\"\n",
    "access_token_secret = \"Tt0w1Qe3J50gRJU5UHJfnnRccBHOOKGpTnkBOZL7myCXv\"\n",
    "\n",
    "auth = tw.OAuthHandler(consumer_key, consumer_secret)\n",
    "auth.set_access_token(access_token, access_token_secret)\n",
    "api = tw.API(auth, wait_on_rate_limit=True)\n",
    "\n",
    "\n",
    "\n",
    "clientcrypto = MongoClient('localhost', 27017)\n",
    "db = clientcrypto.test\n",
    "dbcrypto = clientcrypto.dataman\n",
    "collection = dbcrypto[\"crypto\"]\n",
    "\n",
    "\n",
    "\n",
    "contatore = 0\n",
    "\n",
    "response = collection.find({})\n",
    "n = 0\n",
    "list_nome = []\n",
    "list_abbr = []\n",
    "list_id = []\n",
    "\n",
    "for document in response:\n",
    "    list_nome.append(document['name'])\n",
    "    list_abbr.append(document['ticker'])\n",
    "    list_id.append(document['_id'])\n",
    "    #with open(\"CSVcrypto\", \"a\", encoding=\"utf-8\") as F:\n",
    "        #for i in range(0,len(list_nome)):\n",
    "            \n",
    "    \n",
    "    #while i<= len(document['tweets']):\n",
    "    #for element in document['tweets']:\n",
    "        #txt.write(element['text'])\n",
    "        #i = i+1\n",
    "    #n=n+1\n",
    "    #print(\"inseriti i valori numero\", n)\n"
   ]
  },
  {
   "cell_type": "markdown",
   "id": "8e267186-3021-4c39-ab43-c8767ac56cf8",
   "metadata": {},
   "source": [
    "# Funzioni"
   ]
  },
  {
   "cell_type": "code",
   "execution_count": null,
   "id": "c73c3876-58b8-45b3-a9c4-e3f55ef16807",
   "metadata": {
    "tags": []
   },
   "outputs": [],
   "source": [
    "def downloadTweets(query):\n",
    "    tweets = client.search_recent_tweets(query, max_results=100)\n",
    "    currentCRYPTOdataset = tweetsDataFrame(tweets)\n",
    "    print(\"Presi i tweet di \"+query)\n",
    "    print(tweets.meta)\n",
    "    for _ in range(3):\n",
    "        if 'next_token' in tweets.meta:\n",
    "            tweets = client.search_recent_tweets(query, max_results=100, next_token=tweets.meta['next_token'])\n",
    "            df = tweetsDataFrame(tweets)\n",
    "            currentCRYPTOdataset = currentCRYPTOdataset.append(df, ignore_index=True)\n",
    "        else:\n",
    "            break\n",
    "\n",
    "        print(\"Presi i tweet di \"+query)\n",
    "    return currentCRYPTOdataset\n",
    "\n",
    "\n",
    "def tweetsDataFrame(tweets):\n",
    "    testo = list()\n",
    "    id = list()\n",
    "   \n",
    "    for tweet in tweets.data:\n",
    "        testo.append(tweet.text)\n",
    "        id.append(tweet.id)\n",
    "   \n",
    "    data_vuoto = []\n",
    "    df = pd.DataFrame(data_vuoto)\n",
    "\n",
    "    df['id'] = id\n",
    "    df['text'] = testo\n",
    "   \n",
    "\n",
    "    return df"
   ]
  },
  {
   "cell_type": "markdown",
   "id": "99bf5ed4-b329-46b8-b732-8fdbc6928e2f",
   "metadata": {},
   "source": [
    "# Caricamento Tweets"
   ]
  },
  {
   "cell_type": "code",
   "execution_count": null,
   "id": "51f63570-3543-49bf-b4ab-9163676833cf",
   "metadata": {
    "tags": []
   },
   "outputs": [],
   "source": [
    "n = 0    \n",
    "for x in range(0,len(list_nomi)):\n",
    "    nome = str(list_nomi[x])\n",
    "    abbreviazione = str(list_abbre[x])\n",
    "    ide = list_id[x]\n",
    "    try:\n",
    "        client = tw.Client(bearer_token=bearer_token, consumer_key=consumer_key, consumer_secret=consumer_secret,\n",
    "                   access_token=access_token, access_token_secret=access_token_secret)\n",
    "        df_nome = downloadTweets(nome)\n",
    "        df_abbr = downloadTweets(abbreviazione)\n",
    "        df_unione = df_nome.append(df_abbr)\n",
    "        print('la lunghezza del dataframe di', nome, 'prima del drop è:', len(df_unione))\n",
    "    #eliminazione duplicati \n",
    "        df_unione.drop_duplicates(subset=['id'], keep='first', inplace=True, ignore_index=True)\n",
    "        print('la lunghezza del dataframe di' , nome, 'dopo il drop è:', len(df_unione))\n",
    "        df_load = df_unione.to_dict(\"records\")   \n",
    "        collection.update_many({\"_id\":ide}, {\"$set\":{\"tweets\":df_load}}) \n",
    "        print(\"ho inserio i documenti di\", nome)\n",
    "        contatore = contatore +1\n",
    "    except Exception as e:\n",
    "        print(e)\n",
    "        if str(e) == \"429 Too Many Requests\":\n",
    "                print(\"Pausa 15 minuti\")\n",
    "                time.sleep(15*60)\n",
    "                client = tw.Client(bearer_token=bearer_token, consumer_key=consumer_key, consumer_secret=consumer_secret,\n",
    "                   access_token=access_token, access_token_secret=access_token_secret)\n",
    "                df_nome = downloadTweets(nome)\n",
    "                df_abbr = downloadTweets(abbreviazione)\n",
    "                df_unione = df_nome.append(df_abbr)\n",
    "                print('la lunghezza del dataframe di', nome, 'prima del drop è:', len(df_unione))\n",
    "                #eliminazione duplicati \n",
    "                df_unione.drop_duplicates(subset=['id'], keep='first', inplace=True, ignore_index=True)\n",
    "                print('la lunghezza del dataframe di' , nome, 'dopo il drop è:', len(df_unione))\n",
    "                df_load = df_unione.to_dict(\"records\")   \n",
    "                collection.update_many({\"_id\":ide}, {\"$set\":{\"tweets\":df_load}}) \n",
    "                print(\"ho inserio i documenti di\", nome)\n",
    "                contatore=contatore+1\n",
    "                \n",
    "    print(\"Inserita crypto numero: \",contatore)\n",
    "                \n",
    "print(\"Finito\")"
   ]
  },
  {
   "cell_type": "markdown",
   "id": "69c1d0a7-7b20-4eef-ae5f-ba9c910a5266",
   "metadata": {},
   "source": [
    "CSV Backup"
   ]
  },
  {
   "cell_type": "code",
   "execution_count": 14,
   "id": "eae188e1-22dc-4dcd-b27a-e0ffaa8d7ba9",
   "metadata": {},
   "outputs": [],
   "source": [
    "diz = {\"id\":list_id, \"abbr\":list_abbr, \"nome\": list_nome}\n",
    "backup = pd.DataFrame(diz)\n",
    "backup.to_csv(f'cryptolist.csv')"
   ]
  },
  {
   "cell_type": "markdown",
   "id": "8b318d5c-7a2a-4967-8426-2128eb8682b3",
   "metadata": {},
   "source": [
    "# Caricamento OHLC Data"
   ]
  },
  {
   "cell_type": "code",
   "execution_count": null,
   "id": "267715fe-76d7-471a-9cd6-bbb58f84a905",
   "metadata": {},
   "outputs": [],
   "source": [
    "import pycoingecko\n",
    "from datetime import datetime\n",
    "from bson import ObjectId"
   ]
  },
  {
   "cell_type": "code",
   "execution_count": null,
   "id": "8162ca8b-1b43-424d-831d-ee4df7191a53",
   "metadata": {},
   "outputs": [],
   "source": [
    "cg = pycoingecko.CoinGeckoAPI()\n",
    "crypto_df = pd.read_csv('cryptolist.csv')\n",
    "crypto_df = crypto_df.drop(columns='Unnamed: 0')"
   ]
  },
  {
   "cell_type": "code",
   "execution_count": null,
   "id": "df7e4f66-088e-42fd-ba26-5d4f6aa533c4",
   "metadata": {},
   "outputs": [],
   "source": [
    "id_list = cg.get_coins_list()\n",
    "cg_list = pd.DataFrame(id_list)"
   ]
  },
  {
   "cell_type": "code",
   "execution_count": null,
   "id": "ef30e0d1-357b-4293-b5a6-4262a1002bc7",
   "metadata": {},
   "outputs": [],
   "source": [
    "wormhole = cg_list.loc[cg_list['id'].str.contains('wormhole')].index\n",
    "cg_list.drop(wormhole, inplace = True)\n",
    "wrapped = cg_list.loc[cg_list['id'].str.contains('wrapped')].index\n",
    "cg_list.drop(wrapped, inplace = True)"
   ]
  },
  {
   "cell_type": "code",
   "execution_count": null,
   "id": "892003b0-1afd-45c9-85da-f8f07629a0ad",
   "metadata": {},
   "outputs": [],
   "source": [
    "crypto_df['abbr_low'] = np.nan"
   ]
  },
  {
   "cell_type": "code",
   "execution_count": null,
   "id": "081fa523-2f11-4ae7-8ee7-06eb44c242a4",
   "metadata": {},
   "outputs": [],
   "source": [
    "for i in range(0,len(crypto_df)):\n",
    "    crypto_df['abbr_low'][i] = crypto_df['abbr'][i].lower()"
   ]
  },
  {
   "cell_type": "code",
   "execution_count": null,
   "id": "b46c93e7-85f8-4f63-9b36-28355df980a7",
   "metadata": {},
   "outputs": [],
   "source": [
    "coins_presenti = crypto_df.merge(cg_list, left_on=['abbr_low', 'nome'], right_on=['symbol', 'name'], how='inner')"
   ]
  },
  {
   "cell_type": "code",
   "execution_count": null,
   "id": "a93d7a6c-7940-4713-bb64-6775fc1def70",
   "metadata": {},
   "outputs": [],
   "source": [
    "for i in range(0, len(coins_presenti)):\n",
    "    idc = ObjectId(coins_presenti['id_x'][i])\n",
    "    try:\n",
    "        ohlc = cg.get_coin_ohlc_by_id(coins_presenti['id_y'][i], vs_currency='usd', days=7)\n",
    "        print('Presi i dati di ', coins_presenti['abbr'][i])\n",
    "        for j in range(0, len(ohlc)):\n",
    "            ohlc[j][0] = datetime.fromtimestamp(ohlc[j][0]/1000).strftime(format = '%Y-%m-%d %X%z')\n",
    "        ohlc_df = pd.DataFrame(ohlc)\n",
    "        ohlc_df.columns = ['Data', 'Open', 'High', 'Low', 'Close']\n",
    "        ohlc_dict = ohlc_df.to_dict(\"records\")\n",
    "        collection.update_many({\"_id\": idc}, {\"$set\": {\"ohlc\": ohlc_dict}})\n",
    "    except Exception as e:\n",
    "        print(e)\n",
    "        if \"429\" in str(e):\n",
    "            print(\"Pausa\")\n",
    "            time.sleep(3*60)\n",
    "            ohlc = cg.get_coin_ohlc_by_id(coins_presenti['id_y'][i], vs_currency='usd', days=7)\n",
    "            for x in range(0, len(ohlc)):\n",
    "                ohlc[x][0] = datetime.fromtimestamp(ohlc[x][0]/1000).strftime(format = '%Y-%m-%d %X%z')\n",
    "            ohlc_df = pd.DataFrame(ohlc)\n",
    "            ohlc_df.columns = ['Data', 'Open', 'High', 'Low', 'Close']\n",
    "            ohlc_dict = ohlc_df.to_dict(\"records\")\n",
    "            collection.update_many({\"_id\": idc}, {\"$set\": {\"ohlc\": ohlc_dict}})\n",
    "            print('Caricati i dati di', coins_presenti['abbr'][i])\n",
    "    \n",
    "    print(\"Fine crypto \", i)"
   ]
  }
 ],
 "metadata": {
  "kernelspec": {
   "display_name": "Python 3",
   "language": "python",
   "name": "python3"
  },
  "language_info": {
   "codemirror_mode": {
    "name": "ipython",
    "version": 3
   },
   "file_extension": ".py",
   "mimetype": "text/x-python",
   "name": "python",
   "nbconvert_exporter": "python",
   "pygments_lexer": "ipython3",
   "version": "3.8.8"
  }
 },
 "nbformat": 4,
 "nbformat_minor": 5
}
