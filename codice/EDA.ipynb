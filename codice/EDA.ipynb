{
 "cells": [
  {
   "cell_type": "code",
   "execution_count": 5,
   "id": "d117fa1e-a1fc-43c5-9296-3d2b0f26f828",
   "metadata": {},
   "outputs": [],
   "source": [
    "import pandas as pd\n",
    "import numpy as np\n",
    "import matplotlib.pylab as plt\n",
    "import seaborn as sns"
   ]
  },
  {
   "cell_type": "code",
   "execution_count": 6,
   "id": "21f870f7-8946-405f-af77-816fbd78f49f",
   "metadata": {},
   "outputs": [],
   "source": [
    "crypto = pd.read_csv('C:\\\\Users\\\\kolys\\\\Università\\\\Data Man\\\\crypto_final_final.csv', sep=',')"
   ]
  },
  {
   "cell_type": "code",
   "execution_count": 7,
   "id": "9c695057-8789-4f7a-86f8-6851dfa415fd",
   "metadata": {},
   "outputs": [
    {
     "data": {
      "text/plain": [
       "(2000, 12)"
      ]
     },
     "execution_count": 7,
     "metadata": {},
     "output_type": "execute_result"
    }
   ],
   "source": [
    "crypto.shape"
   ]
  },
  {
   "cell_type": "code",
   "execution_count": 8,
   "id": "66c35c9a-15a9-4a8d-9a72-86bf78718e7e",
   "metadata": {},
   "outputs": [
    {
     "data": {
      "text/html": [
       "<div>\n",
       "<style scoped>\n",
       "    .dataframe tbody tr th:only-of-type {\n",
       "        vertical-align: middle;\n",
       "    }\n",
       "\n",
       "    .dataframe tbody tr th {\n",
       "        vertical-align: top;\n",
       "    }\n",
       "\n",
       "    .dataframe thead th {\n",
       "        text-align: right;\n",
       "    }\n",
       "</style>\n",
       "<table border=\"1\" class=\"dataframe\">\n",
       "  <thead>\n",
       "    <tr style=\"text-align: right;\">\n",
       "      <th></th>\n",
       "      <th>Unnamed: 0</th>\n",
       "      <th>Unnamed: 0.1</th>\n",
       "      <th>img</th>\n",
       "      <th>name</th>\n",
       "      <th>ticker</th>\n",
       "      <th>price</th>\n",
       "      <th>7d(%)</th>\n",
       "      <th>market_cap($)</th>\n",
       "      <th>volume_7d($)</th>\n",
       "      <th>total_supply</th>\n",
       "      <th>dominance(%)</th>\n",
       "      <th>tweets</th>\n",
       "    </tr>\n",
       "  </thead>\n",
       "  <tbody>\n",
       "    <tr>\n",
       "      <th>0</th>\n",
       "      <td>0</td>\n",
       "      <td>0</td>\n",
       "      <td>https://s2.coinmarketcap.com/static/img/coins/...</td>\n",
       "      <td>Bitcoin</td>\n",
       "      <td>BTC</td>\n",
       "      <td>38113.6600</td>\n",
       "      <td>4.05</td>\n",
       "      <td>7.220910e+11</td>\n",
       "      <td>1.699968e+11</td>\n",
       "      <td>1.894572e+07</td>\n",
       "      <td>41.0662</td>\n",
       "      <td>NaN</td>\n",
       "    </tr>\n",
       "    <tr>\n",
       "      <th>1</th>\n",
       "      <td>1</td>\n",
       "      <td>1</td>\n",
       "      <td>https://s2.coinmarketcap.com/static/img/coins/...</td>\n",
       "      <td>Ethereum</td>\n",
       "      <td>ETH</td>\n",
       "      <td>2727.9800</td>\n",
       "      <td>11.61</td>\n",
       "      <td>3.257183e+11</td>\n",
       "      <td>8.981559e+10</td>\n",
       "      <td>1.193991e+08</td>\n",
       "      <td>18.524</td>\n",
       "      <td>NaN</td>\n",
       "    </tr>\n",
       "    <tr>\n",
       "      <th>2</th>\n",
       "      <td>2</td>\n",
       "      <td>2</td>\n",
       "      <td>https://s2.coinmarketcap.com/static/img/coins/...</td>\n",
       "      <td>Tether</td>\n",
       "      <td>USDT</td>\n",
       "      <td>1.0000</td>\n",
       "      <td>0.01</td>\n",
       "      <td>7.801426e+10</td>\n",
       "      <td>2.934867e+11</td>\n",
       "      <td>8.007489e+10</td>\n",
       "      <td>4.4464</td>\n",
       "      <td>NaN</td>\n",
       "    </tr>\n",
       "    <tr>\n",
       "      <th>3</th>\n",
       "      <td>3</td>\n",
       "      <td>3</td>\n",
       "      <td>https://s2.coinmarketcap.com/static/img/coins/...</td>\n",
       "      <td>BNB</td>\n",
       "      <td>BNB</td>\n",
       "      <td>379.8300</td>\n",
       "      <td>1.44</td>\n",
       "      <td>6.271595e+10</td>\n",
       "      <td>1.053736e+10</td>\n",
       "      <td>1.651168e+08</td>\n",
       "      <td>3.5745</td>\n",
       "      <td>NaN</td>\n",
       "    </tr>\n",
       "    <tr>\n",
       "      <th>4</th>\n",
       "      <td>4</td>\n",
       "      <td>4</td>\n",
       "      <td>https://s2.coinmarketcap.com/static/img/coins/...</td>\n",
       "      <td>USD Coin</td>\n",
       "      <td>USDC</td>\n",
       "      <td>0.9998</td>\n",
       "      <td>-0.07</td>\n",
       "      <td>4.999070e+10</td>\n",
       "      <td>2.224555e+10</td>\n",
       "      <td>4.999889e+10</td>\n",
       "      <td>2.843</td>\n",
       "      <td>NaN</td>\n",
       "    </tr>\n",
       "  </tbody>\n",
       "</table>\n",
       "</div>"
      ],
      "text/plain": [
       "   Unnamed: 0  Unnamed: 0.1  \\\n",
       "0           0             0   \n",
       "1           1             1   \n",
       "2           2             2   \n",
       "3           3             3   \n",
       "4           4             4   \n",
       "\n",
       "                                                 img      name ticker  \\\n",
       "0  https://s2.coinmarketcap.com/static/img/coins/...   Bitcoin    BTC   \n",
       "1  https://s2.coinmarketcap.com/static/img/coins/...  Ethereum    ETH   \n",
       "2  https://s2.coinmarketcap.com/static/img/coins/...    Tether   USDT   \n",
       "3  https://s2.coinmarketcap.com/static/img/coins/...       BNB    BNB   \n",
       "4  https://s2.coinmarketcap.com/static/img/coins/...  USD Coin   USDC   \n",
       "\n",
       "        price  7d(%)  market_cap($)  volume_7d($)  total_supply dominance(%)  \\\n",
       "0  38113.6600   4.05   7.220910e+11  1.699968e+11  1.894572e+07      41.0662   \n",
       "1   2727.9800  11.61   3.257183e+11  8.981559e+10  1.193991e+08       18.524   \n",
       "2      1.0000   0.01   7.801426e+10  2.934867e+11  8.007489e+10       4.4464   \n",
       "3    379.8300   1.44   6.271595e+10  1.053736e+10  1.651168e+08       3.5745   \n",
       "4      0.9998  -0.07   4.999070e+10  2.224555e+10  4.999889e+10        2.843   \n",
       "\n",
       "   tweets  \n",
       "0     NaN  \n",
       "1     NaN  \n",
       "2     NaN  \n",
       "3     NaN  \n",
       "4     NaN  "
      ]
     },
     "execution_count": 8,
     "metadata": {},
     "output_type": "execute_result"
    }
   ],
   "source": [
    "crypto.head()"
   ]
  },
  {
   "cell_type": "code",
   "execution_count": 9,
   "id": "fd6b04e3-d4b9-412a-9409-523836ad7b18",
   "metadata": {},
   "outputs": [
    {
     "data": {
      "text/plain": [
       "Index(['Unnamed: 0', 'Unnamed: 0.1', 'img', 'name', 'ticker', 'price', '7d(%)',\n",
       "       'market_cap($)', 'volume_7d($)', 'total_supply', 'dominance(%)',\n",
       "       'tweets'],\n",
       "      dtype='object')"
      ]
     },
     "execution_count": 9,
     "metadata": {},
     "output_type": "execute_result"
    }
   ],
   "source": [
    "crypto.columns"
   ]
  },
  {
   "cell_type": "code",
   "execution_count": 10,
   "id": "e4dc6265-9f7b-4226-a818-766282a2036d",
   "metadata": {},
   "outputs": [
    {
     "data": {
      "text/html": [
       "<div>\n",
       "<style scoped>\n",
       "    .dataframe tbody tr th:only-of-type {\n",
       "        vertical-align: middle;\n",
       "    }\n",
       "\n",
       "    .dataframe tbody tr th {\n",
       "        vertical-align: top;\n",
       "    }\n",
       "\n",
       "    .dataframe thead th {\n",
       "        text-align: right;\n",
       "    }\n",
       "</style>\n",
       "<table border=\"1\" class=\"dataframe\">\n",
       "  <thead>\n",
       "    <tr style=\"text-align: right;\">\n",
       "      <th></th>\n",
       "      <th>img</th>\n",
       "      <th>name</th>\n",
       "      <th>ticker</th>\n",
       "      <th>price</th>\n",
       "      <th>7d(%)</th>\n",
       "      <th>market_cap($)</th>\n",
       "      <th>volume_7d($)</th>\n",
       "      <th>total_supply</th>\n",
       "      <th>dominance(%)</th>\n",
       "      <th>tweets</th>\n",
       "    </tr>\n",
       "  </thead>\n",
       "  <tbody>\n",
       "    <tr>\n",
       "      <th>0</th>\n",
       "      <td>https://s2.coinmarketcap.com/static/img/coins/...</td>\n",
       "      <td>Bitcoin</td>\n",
       "      <td>BTC</td>\n",
       "      <td>38113.660000</td>\n",
       "      <td>4.05</td>\n",
       "      <td>7.220910e+11</td>\n",
       "      <td>1.699968e+11</td>\n",
       "      <td>1.894572e+07</td>\n",
       "      <td>41.0662</td>\n",
       "      <td>NaN</td>\n",
       "    </tr>\n",
       "    <tr>\n",
       "      <th>1</th>\n",
       "      <td>https://s2.coinmarketcap.com/static/img/coins/...</td>\n",
       "      <td>Ethereum</td>\n",
       "      <td>ETH</td>\n",
       "      <td>2727.980000</td>\n",
       "      <td>11.61</td>\n",
       "      <td>3.257183e+11</td>\n",
       "      <td>8.981559e+10</td>\n",
       "      <td>1.193991e+08</td>\n",
       "      <td>18.524</td>\n",
       "      <td>NaN</td>\n",
       "    </tr>\n",
       "    <tr>\n",
       "      <th>2</th>\n",
       "      <td>https://s2.coinmarketcap.com/static/img/coins/...</td>\n",
       "      <td>Tether</td>\n",
       "      <td>USDT</td>\n",
       "      <td>1.000000</td>\n",
       "      <td>0.01</td>\n",
       "      <td>7.801426e+10</td>\n",
       "      <td>2.934867e+11</td>\n",
       "      <td>8.007489e+10</td>\n",
       "      <td>4.4464</td>\n",
       "      <td>NaN</td>\n",
       "    </tr>\n",
       "    <tr>\n",
       "      <th>3</th>\n",
       "      <td>https://s2.coinmarketcap.com/static/img/coins/...</td>\n",
       "      <td>BNB</td>\n",
       "      <td>BNB</td>\n",
       "      <td>379.830000</td>\n",
       "      <td>1.44</td>\n",
       "      <td>6.271595e+10</td>\n",
       "      <td>1.053736e+10</td>\n",
       "      <td>1.651168e+08</td>\n",
       "      <td>3.5745</td>\n",
       "      <td>NaN</td>\n",
       "    </tr>\n",
       "    <tr>\n",
       "      <th>4</th>\n",
       "      <td>https://s2.coinmarketcap.com/static/img/coins/...</td>\n",
       "      <td>USD Coin</td>\n",
       "      <td>USDC</td>\n",
       "      <td>0.999800</td>\n",
       "      <td>-0.07</td>\n",
       "      <td>4.999070e+10</td>\n",
       "      <td>2.224555e+10</td>\n",
       "      <td>4.999889e+10</td>\n",
       "      <td>2.843</td>\n",
       "      <td>NaN</td>\n",
       "    </tr>\n",
       "    <tr>\n",
       "      <th>...</th>\n",
       "      <td>...</td>\n",
       "      <td>...</td>\n",
       "      <td>...</td>\n",
       "      <td>...</td>\n",
       "      <td>...</td>\n",
       "      <td>...</td>\n",
       "      <td>...</td>\n",
       "      <td>...</td>\n",
       "      <td>...</td>\n",
       "      <td>...</td>\n",
       "    </tr>\n",
       "    <tr>\n",
       "      <th>1995</th>\n",
       "      <td>https://s2.coinmarketcap.com/static/img/coins/...</td>\n",
       "      <td>PetroDollar</td>\n",
       "      <td>XPD</td>\n",
       "      <td>0.007675</td>\n",
       "      <td>5.63</td>\n",
       "      <td>4.911660e+05</td>\n",
       "      <td>NaN</td>\n",
       "      <td>6.399327e+07</td>\n",
       "      <td>&lt;0.0001</td>\n",
       "      <td>NaN</td>\n",
       "    </tr>\n",
       "    <tr>\n",
       "      <th>1996</th>\n",
       "      <td>https://s2.coinmarketcap.com/static/img/coins/...</td>\n",
       "      <td>XcelToken Plus</td>\n",
       "      <td>XLAB</td>\n",
       "      <td>0.000015</td>\n",
       "      <td>9.85</td>\n",
       "      <td>4.849770e+05</td>\n",
       "      <td>7.557800e+04</td>\n",
       "      <td>5.000000e+10</td>\n",
       "      <td>&lt;0.0001</td>\n",
       "      <td>NaN</td>\n",
       "    </tr>\n",
       "    <tr>\n",
       "      <th>1997</th>\n",
       "      <td>https://s2.coinmarketcap.com/static/img/coins/...</td>\n",
       "      <td>Limitless VIP</td>\n",
       "      <td>VIP</td>\n",
       "      <td>0.000384</td>\n",
       "      <td>5.63</td>\n",
       "      <td>4.834720e+05</td>\n",
       "      <td>NaN</td>\n",
       "      <td>1.259816e+09</td>\n",
       "      <td>&lt;0.0001</td>\n",
       "      <td>NaN</td>\n",
       "    </tr>\n",
       "    <tr>\n",
       "      <th>1998</th>\n",
       "      <td>https://s2.coinmarketcap.com/static/img/coins/...</td>\n",
       "      <td>TheForce Trade</td>\n",
       "      <td>FOC</td>\n",
       "      <td>0.006001</td>\n",
       "      <td>-4.19</td>\n",
       "      <td>4.813120e+05</td>\n",
       "      <td>1.291710e+05</td>\n",
       "      <td>4.500000e+08</td>\n",
       "      <td>&lt;0.0001</td>\n",
       "      <td>NaN</td>\n",
       "    </tr>\n",
       "    <tr>\n",
       "      <th>1999</th>\n",
       "      <td>https://s2.coinmarketcap.com/static/img/coins/...</td>\n",
       "      <td>Filecash</td>\n",
       "      <td>FIC</td>\n",
       "      <td>0.018470</td>\n",
       "      <td>27.30</td>\n",
       "      <td>4.787160e+05</td>\n",
       "      <td>5.662180e+06</td>\n",
       "      <td>1.995952e+09</td>\n",
       "      <td>&lt;0.0001</td>\n",
       "      <td>NaN</td>\n",
       "    </tr>\n",
       "  </tbody>\n",
       "</table>\n",
       "<p>2000 rows × 10 columns</p>\n",
       "</div>"
      ],
      "text/plain": [
       "                                                    img            name  \\\n",
       "0     https://s2.coinmarketcap.com/static/img/coins/...         Bitcoin   \n",
       "1     https://s2.coinmarketcap.com/static/img/coins/...        Ethereum   \n",
       "2     https://s2.coinmarketcap.com/static/img/coins/...          Tether   \n",
       "3     https://s2.coinmarketcap.com/static/img/coins/...             BNB   \n",
       "4     https://s2.coinmarketcap.com/static/img/coins/...        USD Coin   \n",
       "...                                                 ...             ...   \n",
       "1995  https://s2.coinmarketcap.com/static/img/coins/...     PetroDollar   \n",
       "1996  https://s2.coinmarketcap.com/static/img/coins/...  XcelToken Plus   \n",
       "1997  https://s2.coinmarketcap.com/static/img/coins/...   Limitless VIP   \n",
       "1998  https://s2.coinmarketcap.com/static/img/coins/...  TheForce Trade   \n",
       "1999  https://s2.coinmarketcap.com/static/img/coins/...        Filecash   \n",
       "\n",
       "     ticker         price  7d(%)  market_cap($)  volume_7d($)  total_supply  \\\n",
       "0       BTC  38113.660000   4.05   7.220910e+11  1.699968e+11  1.894572e+07   \n",
       "1       ETH   2727.980000  11.61   3.257183e+11  8.981559e+10  1.193991e+08   \n",
       "2      USDT      1.000000   0.01   7.801426e+10  2.934867e+11  8.007489e+10   \n",
       "3       BNB    379.830000   1.44   6.271595e+10  1.053736e+10  1.651168e+08   \n",
       "4      USDC      0.999800  -0.07   4.999070e+10  2.224555e+10  4.999889e+10   \n",
       "...     ...           ...    ...            ...           ...           ...   \n",
       "1995    XPD      0.007675   5.63   4.911660e+05           NaN  6.399327e+07   \n",
       "1996   XLAB      0.000015   9.85   4.849770e+05  7.557800e+04  5.000000e+10   \n",
       "1997    VIP      0.000384   5.63   4.834720e+05           NaN  1.259816e+09   \n",
       "1998    FOC      0.006001  -4.19   4.813120e+05  1.291710e+05  4.500000e+08   \n",
       "1999    FIC      0.018470  27.30   4.787160e+05  5.662180e+06  1.995952e+09   \n",
       "\n",
       "     dominance(%)  tweets  \n",
       "0         41.0662     NaN  \n",
       "1          18.524     NaN  \n",
       "2          4.4464     NaN  \n",
       "3          3.5745     NaN  \n",
       "4           2.843     NaN  \n",
       "...           ...     ...  \n",
       "1995      <0.0001     NaN  \n",
       "1996      <0.0001     NaN  \n",
       "1997      <0.0001     NaN  \n",
       "1998      <0.0001     NaN  \n",
       "1999      <0.0001     NaN  \n",
       "\n",
       "[2000 rows x 10 columns]"
      ]
     },
     "execution_count": 10,
     "metadata": {},
     "output_type": "execute_result"
    }
   ],
   "source": [
    "df = crypto.drop(columns=['Unnamed: 0', 'Unnamed: 0.1'])\n",
    "df"
   ]
  },
  {
   "cell_type": "code",
   "execution_count": 11,
   "id": "3ef30d5b-d718-41ce-9dce-651147a60dd6",
   "metadata": {},
   "outputs": [
    {
     "data": {
      "text/plain": [
       "img              1994\n",
       "name             1991\n",
       "ticker           1947\n",
       "price            1859\n",
       "7d(%)            1617\n",
       "market_cap($)    2000\n",
       "volume_7d($)     1897\n",
       "total_supply     1222\n",
       "dominance(%)      281\n",
       "tweets              0\n",
       "dtype: int64"
      ]
     },
     "execution_count": 11,
     "metadata": {},
     "output_type": "execute_result"
    }
   ],
   "source": [
    "df.nunique(axis = 0)"
   ]
  },
  {
   "cell_type": "code",
   "execution_count": 12,
   "id": "c1d61b3c-7bac-46dc-afdb-d712868912e9",
   "metadata": {},
   "outputs": [
    {
     "data": {
      "text/html": [
       "<div>\n",
       "<style scoped>\n",
       "    .dataframe tbody tr th:only-of-type {\n",
       "        vertical-align: middle;\n",
       "    }\n",
       "\n",
       "    .dataframe tbody tr th {\n",
       "        vertical-align: top;\n",
       "    }\n",
       "\n",
       "    .dataframe thead th {\n",
       "        text-align: right;\n",
       "    }\n",
       "</style>\n",
       "<table border=\"1\" class=\"dataframe\">\n",
       "  <thead>\n",
       "    <tr style=\"text-align: right;\">\n",
       "      <th></th>\n",
       "      <th>price</th>\n",
       "      <th>7d(%)</th>\n",
       "      <th>market_cap($)</th>\n",
       "      <th>volume_7d($)</th>\n",
       "      <th>total_supply</th>\n",
       "      <th>tweets</th>\n",
       "    </tr>\n",
       "  </thead>\n",
       "  <tbody>\n",
       "    <tr>\n",
       "      <th>count</th>\n",
       "      <td>2000.000000</td>\n",
       "      <td>2000.000000</td>\n",
       "      <td>2000.000000</td>\n",
       "      <td>1905.000000</td>\n",
       "      <td>2000.000000</td>\n",
       "      <td>0.000000</td>\n",
       "    </tr>\n",
       "    <tr>\n",
       "      <th>mean</th>\n",
       "      <td>283.838803</td>\n",
       "      <td>7.174335</td>\n",
       "      <td>920425792.136500</td>\n",
       "      <td>474343080.231496</td>\n",
       "      <td>813169443704439.375000</td>\n",
       "      <td>nan</td>\n",
       "    </tr>\n",
       "    <tr>\n",
       "      <th>std</th>\n",
       "      <td>3780.484032</td>\n",
       "      <td>27.165413</td>\n",
       "      <td>17973249697.863613</td>\n",
       "      <td>8141876843.677786</td>\n",
       "      <td>24015291631459984.000000</td>\n",
       "      <td>nan</td>\n",
       "    </tr>\n",
       "    <tr>\n",
       "      <th>min</th>\n",
       "      <td>0.000000</td>\n",
       "      <td>-85.800000</td>\n",
       "      <td>478716.000000</td>\n",
       "      <td>0.000000</td>\n",
       "      <td>0.000000</td>\n",
       "      <td>nan</td>\n",
       "    </tr>\n",
       "    <tr>\n",
       "      <th>25%</th>\n",
       "      <td>0.012797</td>\n",
       "      <td>-2.645000</td>\n",
       "      <td>2085172.250000</td>\n",
       "      <td>325166.000000</td>\n",
       "      <td>52949989.167500</td>\n",
       "      <td>nan</td>\n",
       "    </tr>\n",
       "    <tr>\n",
       "      <th>50%</th>\n",
       "      <td>0.117000</td>\n",
       "      <td>4.380000</td>\n",
       "      <td>9830205.500000</td>\n",
       "      <td>2402843.000000</td>\n",
       "      <td>319009790.000000</td>\n",
       "      <td>nan</td>\n",
       "    </tr>\n",
       "    <tr>\n",
       "      <th>75%</th>\n",
       "      <td>0.998875</td>\n",
       "      <td>12.185000</td>\n",
       "      <td>59378401.250000</td>\n",
       "      <td>19696914.000000</td>\n",
       "      <td>1500000000.000000</td>\n",
       "      <td>nan</td>\n",
       "    </tr>\n",
       "    <tr>\n",
       "      <th>max</th>\n",
       "      <td>108467.690000</td>\n",
       "      <td>365.050000</td>\n",
       "      <td>722090979732.000000</td>\n",
       "      <td>293486741428.000000</td>\n",
       "      <td>981880466413492736.000000</td>\n",
       "      <td>nan</td>\n",
       "    </tr>\n",
       "  </tbody>\n",
       "</table>\n",
       "</div>"
      ],
      "text/plain": [
       "               price        7d(%)        market_cap($)         volume_7d($)  \\\n",
       "count    2000.000000  2000.000000          2000.000000          1905.000000   \n",
       "mean      283.838803     7.174335     920425792.136500     474343080.231496   \n",
       "std      3780.484032    27.165413   17973249697.863613    8141876843.677786   \n",
       "min         0.000000   -85.800000        478716.000000             0.000000   \n",
       "25%         0.012797    -2.645000       2085172.250000        325166.000000   \n",
       "50%         0.117000     4.380000       9830205.500000       2402843.000000   \n",
       "75%         0.998875    12.185000      59378401.250000      19696914.000000   \n",
       "max    108467.690000   365.050000  722090979732.000000  293486741428.000000   \n",
       "\n",
       "                    total_supply    tweets  \n",
       "count                2000.000000  0.000000  \n",
       "mean      813169443704439.375000       nan  \n",
       "std     24015291631459984.000000       nan  \n",
       "min                     0.000000       nan  \n",
       "25%              52949989.167500       nan  \n",
       "50%             319009790.000000       nan  \n",
       "75%            1500000000.000000       nan  \n",
       "max    981880466413492736.000000       nan  "
      ]
     },
     "execution_count": 12,
     "metadata": {},
     "output_type": "execute_result"
    }
   ],
   "source": [
    "df.describe().apply(lambda s: s.apply(lambda x: format (x, 'f')))"
   ]
  },
  {
   "cell_type": "code",
   "execution_count": 33,
   "id": "e3dcf22c-ff59-4432-8e0f-be7cd637d257",
   "metadata": {},
   "outputs": [
    {
     "data": {
      "image/png": "[encoded data removed]",
      "text/plain": [
       "<Figure size 432x288 with 2 Axes>"
      ]
     },
     "metadata": {
      "needs_background": "light"
     },
     "output_type": "display_data"
    }
   ],
   "source": [
    "corr = df.corr(method='pearson')\n",
    "sns.heatmap(corr, xticklabels = corr.columns, yticklabels = corr.columns, annot = True, cmap = sns.diverging_palette(220, 20, as_cmap = True))\n",
    "plt.savefig(\"correlazione.png\")"
   ]
  },
  {
   "cell_type": "code",
   "execution_count": 14,
   "id": "d00b8d2a-43a5-4c73-8984-01353f9dc1e9",
   "metadata": {},
   "outputs": [
    {
     "data": {
      "text/plain": [
       "<AxesSubplot:xlabel='volume_7d($)', ylabel='market_cap($)'>"
      ]
     },
     "execution_count": 14,
     "metadata": {},
     "output_type": "execute_result"
    },
    {
     "data": {
      "image/png": "[encoded data removed]",
      "text/plain": [
       "<Figure size 432x288 with 1 Axes>"
      ]
     },
     "metadata": {
      "needs_background": "light"
     },
     "output_type": "display_data"
    }
   ],
   "source": [
    "df.plot(kind = 'scatter', x = 'volume_7d($)', y = 'market_cap($)')"
   ]
  },
  {
   "cell_type": "code",
   "execution_count": 15,
   "id": "048cadb6-e7c7-41b3-9d72-2243767cc750",
   "metadata": {},
   "outputs": [
    {
     "data": {
      "text/plain": [
       "<AxesSubplot:xlabel='price', ylabel='market_cap($)'>"
      ]
     },
     "execution_count": 15,
     "metadata": {},
     "output_type": "execute_result"
    },
    {
     "data": {
      "image/png": "[encoded data removed]",
      "text/plain": [
       "<Figure size 432x288 with 1 Axes>"
      ]
     },
     "metadata": {
      "needs_background": "light"
     },
     "output_type": "display_data"
    }
   ],
   "source": [
    "df.plot(kind = 'scatter', x = 'price', y = 'market_cap($)')"
   ]
  },
  {
   "cell_type": "code",
   "execution_count": 16,
   "id": "f2018eda-19f9-4f4c-a2b8-1455da734c16",
   "metadata": {},
   "outputs": [
    {
     "data": {
      "text/plain": [
       "<AxesSubplot:>"
      ]
     },
     "execution_count": 16,
     "metadata": {},
     "output_type": "execute_result"
    },
    {
     "data": {
      "image/png": "[encoded data removed]",
      "text/plain": [
       "<Figure size 432x288 with 1 Axes>"
      ]
     },
     "metadata": {
      "needs_background": "light"
     },
     "output_type": "display_data"
    }
   ],
   "source": [
    "df.boxplot('price')"
   ]
  },
  {
   "cell_type": "code",
   "execution_count": 17,
   "id": "c7d2c2a2-b896-4cf7-bb2e-9bf650f7d6f7",
   "metadata": {},
   "outputs": [
    {
     "data": {
      "text/plain": [
       "<AxesSubplot:>"
      ]
     },
     "execution_count": 17,
     "metadata": {},
     "output_type": "execute_result"
    },
    {
     "data": {
      "image/png": "[encoded data removed]",
      "text/plain": [
       "<Figure size 432x288 with 1 Axes>"
      ]
     },
     "metadata": {
      "needs_background": "light"
     },
     "output_type": "display_data"
    }
   ],
   "source": [
    "df.boxplot('market_cap($)')"
   ]
  },
  {
   "cell_type": "code",
   "execution_count": 18,
   "id": "a55d78ef-f3ac-4494-abf2-855272f44496",
   "metadata": {},
   "outputs": [
    {
     "data": {
      "text/plain": [
       "<AxesSubplot:>"
      ]
     },
     "execution_count": 18,
     "metadata": {},
     "output_type": "execute_result"
    },
    {
     "data": {
      "image/png": "[encoded data removed]",
      "text/plain": [
       "<Figure size 432x288 with 1 Axes>"
      ]
     },
     "metadata": {
      "needs_background": "light"
     },
     "output_type": "display_data"
    }
   ],
   "source": [
    "df.boxplot('total_supply')"
   ]
  },
  {
   "cell_type": "code",
   "execution_count": 19,
   "id": "4354ddaf-ba44-455e-a48e-9ebe34efa6d7",
   "metadata": {},
   "outputs": [
    {
     "data": {
      "text/plain": [
       "<AxesSubplot:>"
      ]
     },
     "execution_count": 19,
     "metadata": {},
     "output_type": "execute_result"
    },
    {
     "data": {
      "image/png": "[encoded data removed]",
      "text/plain": [
       "<Figure size 432x288 with 1 Axes>"
      ]
     },
     "metadata": {
      "needs_background": "light"
     },
     "output_type": "display_data"
    }
   ],
   "source": [
    "df.boxplot('7d(%)')"
   ]
  },
  {
   "cell_type": "code",
   "execution_count": 20,
   "id": "4f5ad956-e8af-48df-9ebd-ad0c022eb440",
   "metadata": {},
   "outputs": [
    {
     "data": {
      "text/plain": [
       "<AxesSubplot:>"
      ]
     },
     "execution_count": 20,
     "metadata": {},
     "output_type": "execute_result"
    },
    {
     "data": {
      "image/png": "[encoded data removed]",
      "text/plain": [
       "<Figure size 432x288 with 1 Axes>"
      ]
     },
     "metadata": {
      "needs_background": "light"
     },
     "output_type": "display_data"
    }
   ],
   "source": [
    "df.boxplot('volume_7d($)')"
   ]
  },
  {
   "cell_type": "code",
   "execution_count": 35,
   "id": "67196dec-9bc9-4daf-98bd-9662dcdb601b",
   "metadata": {},
   "outputs": [
    {
     "data": {
      "image/png": "[encoded data removed]",
      "text/plain": [
       "<Figure size 432x288 with 1 Axes>"
      ]
     },
     "metadata": {
      "needs_background": "light"
     },
     "output_type": "display_data"
    }
   ],
   "source": [
    "sns.violinplot( y =\"price\",\n",
    "             data = df)\n",
    "plt.savefig(\"price.png\")"
   ]
  },
  {
   "cell_type": "code",
   "execution_count": 22,
   "id": "9af9d332-7819-41cf-9756-1394f59abb86",
   "metadata": {},
   "outputs": [
    {
     "data": {
      "text/plain": [
       "<AxesSubplot:ylabel='market_cap($)'>"
      ]
     },
     "execution_count": 22,
     "metadata": {},
     "output_type": "execute_result"
    },
    {
     "data": {
      "image/png": "[encoded data removed]",
      "text/plain": [
       "<Figure size 432x288 with 1 Axes>"
      ]
     },
     "metadata": {
      "needs_background": "light"
     },
     "output_type": "display_data"
    }
   ],
   "source": [
    "sns.violinplot( y = 'market_cap($)',\n",
    "             data = df)"
   ]
  },
  {
   "cell_type": "code",
   "execution_count": 23,
   "id": "e9e7acab-95cc-4fa9-a6d6-177f7c6ddd63",
   "metadata": {},
   "outputs": [
    {
     "data": {
      "text/plain": [
       "<AxesSubplot:ylabel='total_supply'>"
      ]
     },
     "execution_count": 23,
     "metadata": {},
     "output_type": "execute_result"
    },
    {
     "data": {
      "image/png": "[encoded data removed]",
      "text/plain": [
       "<Figure size 432x288 with 1 Axes>"
      ]
     },
     "metadata": {
      "needs_background": "light"
     },
     "output_type": "display_data"
    }
   ],
   "source": [
    "sns.violinplot( y = 'total_supply',\n",
    "             data = df)"
   ]
  },
  {
   "cell_type": "code",
   "execution_count": 24,
   "id": "938538f5-af24-46ff-a287-b2d577d80845",
   "metadata": {},
   "outputs": [
    {
     "data": {
      "text/plain": [
       "<AxesSubplot:ylabel='7d(%)'>"
      ]
     },
     "execution_count": 24,
     "metadata": {},
     "output_type": "execute_result"
    },
    {
     "data": {
      "image/png": "[encoded data removed]",
      "text/plain": [
       "<Figure size 432x288 with 1 Axes>"
      ]
     },
     "metadata": {
      "needs_background": "light"
     },
     "output_type": "display_data"
    }
   ],
   "source": [
    "sns.violinplot( y = '7d(%)',\n",
    "             data = df)"
   ]
  },
  {
   "cell_type": "code",
   "execution_count": 25,
   "id": "f9f4f384-d4fe-473e-aeca-49d692812aab",
   "metadata": {},
   "outputs": [
    {
     "data": {
      "text/plain": [
       "<AxesSubplot:ylabel='volume_7d($)'>"
      ]
     },
     "execution_count": 25,
     "metadata": {},
     "output_type": "execute_result"
    },
    {
     "data": {
      "image/png": "[encoded data removed]",
      "text/plain": [
       "<Figure size 432x288 with 1 Axes>"
      ]
     },
     "metadata": {
      "needs_background": "light"
     },
     "output_type": "display_data"
    }
   ],
   "source": [
    "sns.violinplot( y = 'volume_7d($)',\n",
    "             data = df)"
   ]
  },
  {
   "cell_type": "code",
   "execution_count": null,
   "id": "9a96e2a5-5875-44ad-9125-ee77a52ccb49",
   "metadata": {},
   "outputs": [],
   "source": []
  },
  {
   "cell_type": "code",
   "execution_count": null,
   "id": "24e1d5b3-5c91-44c6-9626-e2a1439aad08",
   "metadata": {},
   "outputs": [],
   "source": []
  }
 ],
 "metadata": {
  "kernelspec": {
   "display_name": "Python 3 (ipykernel)",
   "language": "python",
   "name": "python3"
  },
  "language_info": {
   "codemirror_mode": {
    "name": "ipython",
    "version": 3
   },
   "file_extension": ".py",
   "mimetype": "text/x-python",
   "name": "python",
   "nbconvert_exporter": "python",
   "pygments_lexer": "ipython3",
   "version": "3.9.7"
  }
 },
 "nbformat": 4,
 "nbformat_minor": 5
}
